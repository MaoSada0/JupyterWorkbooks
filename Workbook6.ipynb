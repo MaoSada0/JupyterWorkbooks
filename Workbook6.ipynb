{
 "cells": [
  {
   "cell_type": "markdown",
   "metadata": {
    "cell_id": "8c1f95b457e64b64b8dd85120f47d1be",
    "deepnote_cell_type": "markdown"
   },
   "source": [
    "### Задание 1"
   ]
  },
  {
   "cell_type": "code",
   "execution_count": 3,
   "metadata": {
    "cell_id": "896f3e569e0f48ab81fa2ea6ced4478f",
    "deepnote_cell_type": "code",
    "deepnote_to_be_reexecuted": false,
    "execution_millis": 8,
    "execution_start": 1682676718098,
    "source_hash": "64911570"
   },
   "outputs": [],
   "source": [
    "def qZ(x, y):\n",
    "    return (x - 3 * y + 1) / (3 * x ** 2 + 3 * y ** 2 + 1)"
   ]
  },
  {
   "cell_type": "code",
   "execution_count": 4,
   "metadata": {
    "cell_id": "d5fbd825733a4253acb15e820eb26178",
    "deepnote_cell_type": "code",
    "deepnote_to_be_reexecuted": false,
    "execution_millis": 4,
    "execution_start": 1682676718106,
    "source_hash": "d35fa529"
   },
   "outputs": [],
   "source": [
    "def qSumZ(Z):\n",
    "    return sum(Z)"
   ]
  },
  {
   "cell_type": "code",
   "execution_count": 5,
   "metadata": {
    "cell_id": "57864ec6cc9a49a5a506c7647c54c767",
    "deepnote_cell_type": "code",
    "deepnote_to_be_reexecuted": false,
    "execution_millis": 0,
    "execution_start": 1682676718110,
    "source_hash": "f5fc6718"
   },
   "outputs": [],
   "source": [
    "def exchangeScheme(oldX, oldY, sortedId):\n",
    "    x = [0 for i in range(4)]\n",
    "    y = [0 for i in range(4)]\n",
    "    \n",
    "    x[2] = oldX[sortedId[2]]\n",
    "    x[3] = oldX[sortedId[2]]\n",
    "    \n",
    "    x[0] = oldX[sortedId[0]]\n",
    "    \n",
    "    x[1] = oldX[sortedId[1]]\n",
    "    \n",
    "    y[0] = oldY[sortedId[2]]\n",
    "    y[1] = oldY[sortedId[2]]\n",
    "    \n",
    "    y[2] = oldY[sortedId[0]]\n",
    "    \n",
    "    y[3] = oldY[sortedId[1]]\n",
    "    \n",
    "    return x, y"
   ]
  },
  {
   "cell_type": "code",
   "execution_count": 6,
   "metadata": {
    "cell_id": "53c05428689d4f7f84c6c85ba1080454",
    "deepnote_cell_type": "code",
    "deepnote_to_be_reexecuted": false,
    "execution_millis": 5,
    "execution_start": 1682676718110,
    "source_hash": "5d157e99"
   },
   "outputs": [],
   "source": [
    "def sorting(Z):\n",
    "    sortedId = sorted(range(len(Z)), key=lambda k: Z[k])\n",
    "    return sortedId"
   ]
  },
  {
   "cell_type": "code",
   "execution_count": 7,
   "metadata": {
    "cell_id": "2acdceedb5914eccade2ee9559ed7d4e",
    "deepnote_cell_type": "code",
    "deepnote_to_be_reexecuted": false,
    "execution_millis": 0,
    "execution_start": 1682676718115,
    "source_hash": "cf31ab4f"
   },
   "outputs": [],
   "source": [
    "def evoStep(x, y, z):\n",
    "    _, minId = min((value, id) for (id, value) in enumerate(z))\n",
    "    x = x[:]\n",
    "    y = y[:]\n",
    "    z = z[:]\n",
    "    \n",
    "    x.pop(minId)\n",
    "    y.pop(minId)\n",
    "    z.pop(minId)\n",
    "    \n",
    "    return x, y, z"
   ]
  },
  {
   "cell_type": "code",
   "execution_count": 8,
   "metadata": {
    "cell_id": "4e2424a9105e48169950189b13b44356",
    "deepnote_cell_type": "code",
    "deepnote_to_be_reexecuted": false,
    "execution_millis": 37,
    "execution_start": 1682676718145,
    "source_hash": "be115602"
   },
   "outputs": [],
   "source": [
    "def evoSteps(x, y, steps_num=4):\n",
    "    results = []\n",
    "    \n",
    "    for i in range(steps_num):\n",
    "        arrZ = [qZ(k, y[i]) for i, k in enumerate(x)]\n",
    "        \n",
    "        x, y, z = evoStep(x, y, arrZ)\n",
    "        \n",
    "        x, y = exchangeScheme(x, y, sorting(z))\n",
    "        \n",
    "        results.append([x, y, qSumZ(arrZ), arrZ])\n",
    "    \n",
    "    return x, y, results"
   ]
  },
  {
   "cell_type": "code",
   "execution_count": 9,
   "metadata": {
    "cell_id": "5bc4d0b037a946f699cb95a8fa2fe29a",
    "deepnote_cell_type": "code",
    "deepnote_to_be_reexecuted": false,
    "execution_millis": 4,
    "execution_start": 1682676758658,
    "source_hash": "16088ac8"
   },
   "outputs": [],
   "source": [
    "x = [-2, -1, 0, 1]\n",
    "y = [-2, -1, 0, 1]\n",
    "\n",
    "results = evoSteps(x, y)"
   ]
  },
  {
   "cell_type": "code",
   "execution_count": 10,
   "metadata": {
    "cell_id": "925c5fd5e3c3491d863d21fa7ee9f428",
    "deepnote_cell_type": "code",
    "deepnote_to_be_reexecuted": false,
    "execution_millis": 15,
    "execution_start": 1682676826842,
    "source_hash": "427bd372"
   },
   "outputs": [
    {
     "name": "stdout",
     "output_type": "stream",
     "text": [
      "max_1_step: 1.4857142857142858\n",
      "max_2_step: 1.4615384615384615\n",
      "max_3_step: 2.967032967032967\n",
      "max_4_step: 3.5384615384615383\n",
      "max Z: 1.0\n"
     ]
    }
   ],
   "source": [
    "for i in range(len(results[2])):\n",
    "    print(f'max_{i + 1}_step: {results[2][i][2]}')\n",
    "\n",
    "qualityArrZ = []\n",
    "for i in range(len(results[2])):\n",
    "    qualityArrZ += results[2][i][3]\n",
    "\n",
    "print(f'max Z: {max(qualityArrZ)}')"
   ]
  },
  {
   "cell_type": "markdown",
   "metadata": {
    "cell_id": "77378f265e484a62b868958dc4327f03",
    "deepnote_cell_type": "markdown"
   },
   "source": [
    "### Задание 2"
   ]
  },
  {
   "cell_type": "code",
   "execution_count": 12,
   "metadata": {
    "cell_id": "af445eb683594a3a8d4b133c554e403b",
    "deepnote_cell_type": "code",
    "deepnote_to_be_reexecuted": false,
    "execution_millis": 5,
    "execution_start": 1682677203123,
    "source_hash": "6a3c900b"
   },
   "outputs": [],
   "source": [
    "import networkx as nx\n",
    "from math import e\n",
    "\n",
    "distances = [(1, 2, 26),\n",
    "            (1, 3, 42),\n",
    "            (1, 4, 44), \n",
    "            (1, 5, 31),\n",
    "            (1, 6, 24),\n",
    "            (2, 3, 20),\n",
    "            (2, 4, 34),\n",
    "            (2, 5, 40),\n",
    "            (2, 6, 15),\n",
    "            (3, 4, 23),\n",
    "            (3, 5, 43),\n",
    "            (3, 6, 20),\n",
    "            (4, 5, 27),\n",
    "            (4, 6, 22),\n",
    "            (5, 6, 26)] \n",
    "\n",
    "V = [1, 2, 3, 4, 5, 6, 1] \n",
    "Z = [(3, 4),\n",
    "    (4, 6),\n",
    "    (5, 6),\n",
    "    (6, 2)]\n",
    "P = [90, 45, 43, 31] \n",
    "\n",
    "T = 100"
   ]
  },
  {
   "cell_type": "code",
   "execution_count": 14,
   "metadata": {
    "cell_id": "590a3d7ce9de45d6b2c4101041563b4a",
    "deepnote_cell_type": "code",
    "deepnote_to_be_reexecuted": false,
    "execution_millis": 3,
    "execution_start": 1682677215126,
    "source_hash": "158d9ef7"
   },
   "outputs": [],
   "source": [
    "def probability(delta, T):\n",
    "    return 100 * e ** (-delta / T)\n",
    "\n",
    "def reductTemp(prevT):\n",
    "    nextT = 0.5 * prevT\n",
    "    return nextT"
   ]
  },
  {
   "cell_type": "code",
   "execution_count": 15,
   "metadata": {
    "cell_id": "db2517fa21034048bc02afe71388e4e8",
    "deepnote_cell_type": "code",
    "deepnote_to_be_reexecuted": false,
    "execution_millis": 6,
    "execution_start": 1682677232593,
    "source_hash": "67dc1fb6"
   },
   "outputs": [],
   "source": [
    "def edgeLength(i, j, distances, roundTrip=True):\n",
    "    if roundTrip:\n",
    "        return max([(item[2] if (item[0] == i and item[1] == j) or (item[1] == i and item[0] == j) else -1)\n",
    "                   for item in distances])\n",
    "    else:\n",
    "        return max([(item[2] if (item[0] == i and item[1] == j) else -1) for item in distances])"
   ]
  },
  {
   "cell_type": "code",
   "execution_count": 19,
   "metadata": {
    "cell_id": "7fcdbba170ce41d88d4d8c5db6df5049",
    "deepnote_cell_type": "code",
    "deepnote_to_be_reexecuted": false,
    "execution_millis": 2,
    "execution_start": 1682677245663,
    "source_hash": "18228a9"
   },
   "outputs": [],
   "source": [
    "def routeLength(V, distances):\n",
    "    edges = []\n",
    "    \n",
    "    for i in range(len(V) - 1):\n",
    "        edges.append(edgeLength(V[i], V[i + 1], distances))\n",
    "    \n",
    "    return sum(edges)"
   ]
  },
  {
   "cell_type": "code",
   "execution_count": 20,
   "metadata": {
    "cell_id": "65af681e55db4128b74f98f9e5cb4c09",
    "deepnote_cell_type": "code",
    "deepnote_to_be_reexecuted": false,
    "execution_millis": 3,
    "execution_start": 1682677260378,
    "source_hash": "9ba94fdb"
   },
   "outputs": [],
   "source": [
    "def routeOneReplacement(arrV, Z, replacementByName=True):\n",
    "    decrement = 1 if replacementByName else 0\n",
    "    \n",
    "    arrV[Z[0] - decrement], arrV[Z[1] - decrement] = arrV[Z[1] - decrement], arrV[Z[0] - decrement]\n",
    "\n",
    "    return arrV"
   ]
  },
  {
   "cell_type": "code",
   "execution_count": 21,
   "metadata": {
    "cell_id": "e0aedd1c579e4095bf6e4588cc513e7f",
    "deepnote_cell_type": "code",
    "deepnote_to_be_reexecuted": false,
    "execution_millis": 4,
    "execution_start": 1682677268325,
    "source_hash": "f93e50a3"
   },
   "outputs": [],
   "source": [
    "def routeReplacement(V, Z):\n",
    "    for z in Z:\n",
    "        V = routeOneReplacement(V, z)\n",
    "    return V"
   ]
  },
  {
   "cell_type": "code",
   "execution_count": 23,
   "metadata": {
    "cell_id": "b61b110f83ba4c03a8c78c800032d56b",
    "deepnote_cell_type": "code",
    "deepnote_to_be_reexecuted": false,
    "execution_millis": 2,
    "execution_start": 1682677284919,
    "source_hash": "881df55d"
   },
   "outputs": [],
   "source": [
    "def chooseRoute(distances, V, Z, T, P):\n",
    "    sumLength = routeLength(V, distances)\n",
    "    arrSum = [sumLength] \n",
    "    \n",
    "    for i in range(len(Z)):\n",
    "        newV = routeOneReplacement(V[:], Z[i])\n",
    "        newS = routeLength(newV, distances)\n",
    "        arrSum.append(newS)\n",
    "        deltaS = newS - sumLength\n",
    "        \n",
    "       \n",
    "        if deltaS > 0:\n",
    "            p = probability(deltaS, T)\n",
    "            if p > P[i]:\n",
    "                V = newV\n",
    "                sumLength = newS\n",
    "        else:\n",
    "            V = newV\n",
    "            sumLength = newS\n",
    "        \n",
    "        T = reductTemp(T)\n",
    "    \n",
    "    return V, arrSum"
   ]
  },
  {
   "cell_type": "code",
   "execution_count": 24,
   "metadata": {
    "cell_id": "04a4e163c2f3400aa9fa1fcfce80fa1b",
    "deepnote_cell_type": "code",
    "deepnote_to_be_reexecuted": false,
    "execution_millis": 1,
    "execution_start": 1682677295423,
    "source_hash": "ce3124e"
   },
   "outputs": [],
   "source": [
    "def drawRouteGraph(distances, bestRoute):\n",
    "    newDistances = []\n",
    "    for i in range(len(bestRoute) - 1):\n",
    "        for distance in distances:\n",
    "            if distance[0] == bestRoute[i] and distance[1] == bestRoute[i + 1] or distance[1] == bestRoute[i] and distance[0] == bestRoute[i + 1]:\n",
    "                newDistances.append(distance)\n",
    "    \n",
    "    graph = nx.Graph() \n",
    "    \n",
    "    graph.add_weighted_edges_from(newDistances)\n",
    "    nx.draw_kamada_kawai(graph, node_color='#fb7258', node_size=2000, with_labels=True)"
   ]
  },
  {
   "cell_type": "code",
   "execution_count": 25,
   "metadata": {
    "cell_id": "bc9a1a7a3d0b4e69a668a11a8eeec367",
    "deepnote_cell_type": "code",
    "deepnote_to_be_reexecuted": false,
    "execution_millis": 136,
    "execution_start": 1682677335048,
    "source_hash": "34052529"
   },
   "outputs": [
    {
     "name": "stdout",
     "output_type": "stream",
     "text": [
      "Лучший выбранный маршрут: [1, 2, 3, 6, 4, 5, 1]\n",
      "Длина лучшего выбранного маршрута: 146\n",
      "Длины всех рассмотренных маршрутов: [146, 176, 163, 146, 176]\n"
     ]
    },
    {
     "data": {
      "image/png": "[encoded data removed]",
      "text/plain": [
       "<Figure size 640x480 with 1 Axes>"
      ]
     },
     "metadata": {},
     "output_type": "display_data"
    }
   ],
   "source": [
    "bestRoute, arrLength = chooseRoute(distances, V, Z, T, P)\n",
    "\n",
    "print(f'Лучший выбранный маршрут: {bestRoute}')\n",
    "print(f'Длина лучшего выбранного маршрута: {routeLength(bestRoute, distances)}')\n",
    "print(f'Длины всех рассмотренных маршрутов: {arrLength}')\n",
    "\n",
    "drawRouteGraph(distances, bestRoute) "
   ]
  },
  {
   "cell_type": "code",
   "execution_count": null,
   "metadata": {},
   "outputs": [],
   "source": []
  }
 ],
 "metadata": {
  "deepnote": {},
  "deepnote_execution_queue": [],
  "deepnote_notebook_id": "5a6fe8aa532b44169c7558e0d497a6fd",
  "deepnote_persisted_session": {
   "createdAt": "2023-04-28T10:42:23.375Z"
  },
  "kernelspec": {
   "display_name": "Python 3 (ipykernel)",
   "language": "python",
   "name": "python3"
  },
  "language_info": {
   "codemirror_mode": {
    "name": "ipython",
    "version": 3
   },
   "file_extension": ".py",
   "mimetype": "text/x-python",
   "name": "python",
   "nbconvert_exporter": "python",
   "pygments_lexer": "ipython3",
   "version": "3.11.5"
  }
 },
 "nbformat": 4,
 "nbformat_minor": 1
}
