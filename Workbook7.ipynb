{
 "cells": [
  {
   "cell_type": "code",
   "execution_count": 2,
   "id": "ae16b06e-e727-4ce1-a689-896b8758506f",
   "metadata": {},
   "outputs": [],
   "source": [
    "import numpy  as np"
   ]
  },
  {
   "cell_type": "code",
   "execution_count": 3,
   "id": "e7f3d11f-d67e-4647-97d2-bf040170abdf",
   "metadata": {},
   "outputs": [],
   "source": [
    "def sigmoid(x):\n",
    "    return 1 / (1 + np.exp(-x))\n",
    "\n",
    "class Neuron:\n",
    "    def __init__(self, weights, bias):\n",
    "        self.weights = weights\n",
    "        self.bias = bias\n",
    "    def feedforward(self, inputs):\n",
    "        total = np.dot(self.weights, inputs) + self.bias\n",
    "        return sigmoid(total)"
   ]
  },
  {
   "cell_type": "code",
   "execution_count": 4,
   "id": "d0e99d47-2aa4-436c-a855-867182572689",
   "metadata": {},
   "outputs": [
    {
     "name": "stdout",
     "output_type": "stream",
     "text": [
      "Ответ первой нейронной сети: 0.8151036049051821\n",
      "Ответы второй нейронной сети: (0.8757270529783324, 0.8757270529783324)\n"
     ]
    }
   ],
   "source": [
    "class FirstNeuralNetwork:\n",
    "\n",
    "    def __init__(self):\n",
    "        weights = np.array([0.5, 0.5, 0.5])\n",
    "        bias = 0\n",
    "        self.h1 = Neuron(weights, bias)\n",
    "        self.h2 = Neuron(weights, bias)\n",
    "        self.h3 = Neuron(weights, bias)\n",
    "        self.o1 = Neuron(weights, bias)\n",
    "    def feedforward(self, x):\n",
    "        out_h1 = self.h1.feedforward(x)\n",
    "        out_h2 = self.h2.feedforward(x)\n",
    "        out_h3 = self.h3.feedforward(x)\n",
    "        out_o1 = self.o1.feedforward(np.array([out_h1, out_h2, out_h3]))\n",
    "        return out_o1\n",
    "\n",
    "\n",
    "class SecondNeuralNetwork:\n",
    "\n",
    "    def __init__(self):\n",
    "        weights = np.array([1, 0])\n",
    "        bias = 1\n",
    "        self.h1 = Neuron(weights, bias)\n",
    "        self.h2 = Neuron(weights, bias)\n",
    "        self.o1 = Neuron(weights, bias)\n",
    "        self.o2 = Neuron(weights, bias)\n",
    "    def feedforward(self, x):\n",
    "        out_h1 = self.h1.feedforward(x)\n",
    "        out_h2 = self.h2.feedforward(x)\n",
    "        out_o1 = self.o1.feedforward(np.array([out_h1, out_h2]))\n",
    "        out_o2 = self.o2.feedforward(np.array([out_h1, out_h2]))\n",
    "        return out_o1, out_o2\n",
    "\n",
    "\n",
    "fnn = FirstNeuralNetwork()\n",
    "X1 = np.array([2, 3, 4])\n",
    "print(f'Ответ первой нейронной сети: {fnn.feedforward(X1)}')\n",
    "snn = SecondNeuralNetwork()\n",
    "X2 = np.array([2, 3])\n",
    "print(f'Ответы второй нейронной сети: {snn.feedforward(X2)}')"
   ]
  },
  {
   "cell_type": "code",
   "execution_count": 5,
   "id": "21bd9910-4d65-460a-a956-768f131eb4dd",
   "metadata": {},
   "outputs": [
    {
     "name": "stdout",
     "output_type": "stream",
     "text": [
      "Ответ нейронной сети с tanh: 0.9050813365686774\n"
     ]
    }
   ],
   "source": [
    "class NeuronTANH:\n",
    "    def __init__(self, weights, bias):\n",
    "        self.weights = weights\n",
    "        self.bias = bias\n",
    "    def feedforward(self, inputs):\n",
    "        total = np.dot(self.weights, inputs) + self.bias\n",
    "        return np.tanh(total)    \n",
    "\n",
    "\n",
    "class NeuralNetworkTANH:\n",
    "    def __init__(self):\n",
    "        weights = np.array([0.5, 0.5, 0.5])\n",
    "        bias = 0\n",
    "        self.h1 = NeuronTANH(weights, bias)\n",
    "        self.h2 = NeuronTANH(weights, bias)\n",
    "        self.h3 = NeuronTANH(weights, bias)\n",
    "        self.o1 = NeuronTANH(weights, bias)\n",
    "    def feedforward(self, x):\n",
    "        out_h1 = self.h1.feedforward(x)\n",
    "        out_h2 = self.h2.feedforward(x)\n",
    "        out_h3 = self.h3.feedforward(x)\n",
    "        out_o1 = self.o1.feedforward(np.array([out_h1, out_h2, out_h3]))\n",
    "        return out_o1\n",
    "\n",
    "\n",
    "tnn = NeuralNetworkTANH()\n",
    "X1 = np.array([2, 3, 4])\n",
    "print(f'Ответ нейронной сети с tanh: {tnn.feedforward(X1)}')"
   ]
  },
  {
   "cell_type": "code",
   "execution_count": 6,
   "id": "cd9953d9-ba2c-425c-8742-aafcaa50684d",
   "metadata": {},
   "outputs": [
    {
     "name": "stdout",
     "output_type": "stream",
     "text": [
      "Ответ нейронной сети с relu: 6.75\n"
     ]
    }
   ],
   "source": [
    "class NeuronReLU:\n",
    "    def __init__(self, weights, bias):\n",
    "        self.weights = weights\n",
    "        self.bias = bias\n",
    "    def feedforward(self, inputs):\n",
    "        total = np.dot(self.weights, inputs) + self.bias\n",
    "        return max(total, 0)    \n",
    "\n",
    "\n",
    "class NeuralNetworkReLU:\n",
    "    def __init__(self):\n",
    "        weights = np.array([0.5, 0.5, 0.5])\n",
    "        bias = 0\n",
    "        self.h1 = NeuronReLU(weights, bias)\n",
    "        self.h2 = NeuronReLU(weights, bias)\n",
    "        self.h3 = NeuronReLU(weights, bias)\n",
    "        self.o1 = NeuronReLU(weights, bias)\n",
    "    def feedforward(self, x):\n",
    "        out_h1 = self.h1.feedforward(x)\n",
    "        out_h2 = self.h2.feedforward(x)\n",
    "        out_h3 = self.h3.feedforward(x)\n",
    "        out_o1 = self.o1.feedforward(np.array([out_h1, out_h2, out_h3]))\n",
    "        return out_o1\n",
    "\n",
    "\n",
    "rnn = NeuralNetworkReLU()\n",
    "X1 = np.array([2, 3, 4])\n",
    "print(f'Ответ нейронной сети с relu: {rnn.feedforward(X1)}')"
   ]
  },
  {
   "cell_type": "code",
   "execution_count": 7,
   "id": "971111c9-2eea-4974-a498-03e1fba3af70",
   "metadata": {},
   "outputs": [],
   "source": [
    "from sklearn.datasets import load_iris\n",
    "from sklearn.neural_network import MLPClassifier, MLPRegressor\n",
    "from sklearn.model_selection import train_test_split\n",
    "import pandas as pd"
   ]
  },
  {
   "cell_type": "code",
   "execution_count": 8,
   "id": "3fd8d6c3-a0ae-4ece-9407-1a6b2c1fbfe6",
   "metadata": {},
   "outputs": [
    {
     "name": "stdout",
     "output_type": "stream",
     "text": [
      "Test accuracy: 0.967\n",
      "Train accuracy: 0.975\n"
     ]
    },
    {
     "name": "stderr",
     "output_type": "stream",
     "text": [
      "C:\\Users\\user\\anaconda3\\Lib\\site-packages\\sklearn\\neural_network\\_multilayer_perceptron.py:691: ConvergenceWarning: Stochastic Optimizer: Maximum iterations (200) reached and the optimization hasn't converged yet.\n",
      "  warnings.warn(\n"
     ]
    }
   ],
   "source": [
    "iris = load_iris()\n",
    "X_iris, Y_iris = iris.data, iris.target\n",
    "\n",
    "X_train, X_test, y_train, y_test = train_test_split(X_iris, Y_iris, test_size=0.2, random_state=123)\n",
    "\n",
    "mlp_classifier = MLPClassifier(random_state=123)\n",
    "mlp_classifier.fit(X_train, y_train)\n",
    "\n",
    "y_pred_cls = mlp_classifier.predict(X_test)\n",
    "print('Test accuracy: %.3f'%mlp_classifier.score(X_test, y_test))\n",
    "print('Train accuracy: %.3f'%mlp_classifier.score(X_train, y_train))"
   ]
  },
  {
   "cell_type": "code",
   "execution_count": 9,
   "id": "fde87293-c15e-488a-ab91-7347e35a5727",
   "metadata": {},
   "outputs": [
    {
     "name": "stdout",
     "output_type": "stream",
     "text": [
      "Loss:  0.3012607394074939\n",
      "Number of Coefs:  2\n",
      "Number of Intercepts:  2\n",
      "Number of Iterations for Which Estimator Ran:  200\n",
      "Number of Output Layer Activation Function:  softmax\n"
     ]
    }
   ],
   "source": [
    "\n",
    "print('Loss: ', mlp_classifier.loss_)\n",
    "print('Number of Coefs: ', len(mlp_classifier.coefs_))\n",
    "print('Number of Intercepts: ', len(mlp_classifier.intercepts_))\n",
    "print('Number of Iterations for Which Estimator Ran: ', mlp_classifier.n_iter_)\n",
    "print('Number of Output Layer Activation Function: ', mlp_classifier.out_activation_)"
   ]
  },
  {
   "cell_type": "code",
   "execution_count": 12,
   "id": "6fc4143f-988c-430d-8345-252a0f7b8ce5",
   "metadata": {},
   "outputs": [
    {
     "name": "stdout",
     "output_type": "stream",
     "text": [
      "[[1.1], [1.3], [1.5], [2.0], [2.2], [2.9], [3.0], [3.2], [3.2], [3.7], [3.9], [4.0], [4.0], [4.1], [4.5], [4.9], [5.1], [5.3], [5.9], [6.0], [6.8], [7.1], [7.9], [8.2], [8.7], [9.0], [9.5], [9.6], [10.3], [10.5]]\n",
      "Test accuracy: -8.796\n",
      "Train accuracy: -8.261\n"
     ]
    },
    {
     "name": "stderr",
     "output_type": "stream",
     "text": [
      "C:\\Users\\user\\anaconda3\\Lib\\site-packages\\sklearn\\neural_network\\_multilayer_perceptron.py:691: ConvergenceWarning: Stochastic Optimizer: Maximum iterations (200) reached and the optimization hasn't converged yet.\n",
      "  warnings.warn(\n"
     ]
    }
   ],
   "source": [
    "url = 'https://raw.githubusercontent.com/AnnaShestova/salary-years-simple-linear-regression/master/Salary_Data.csv'\n",
    "\n",
    "salary = pd.read_csv(url)\n",
    "salary.head()\n",
    "\n",
    "X_salary, y_salary = np.array(salary['YearsExperience']).reshape(30, 1).tolist(), np.array(salary['Salary']).reshape(30, ).tolist()\n",
    "print(X_salary)\n",
    "\n",
    "X_train, X_test, y_train, y_test = train_test_split(X_salary, y_salary, test_size=0.2, random_state=123)\n",
    "mlp_regressor = MLPRegressor(random_state=123)\n",
    "mlp_regressor.fit(X_train, y_train)\n",
    "\n",
    "y_pred_reg = mlp_regressor.predict(X_test)\n",
    "\n",
    "print('Test accuracy: %.3f'%mlp_regressor.score(X_test, y_test))\n",
    "print('Train accuracy: %.3f'%mlp_regressor.score(X_train, y_train))"
   ]
  },
  {
   "cell_type": "code",
   "execution_count": 11,
   "id": "04c55ac2-35a0-46fb-be40-440c96175c33",
   "metadata": {},
   "outputs": [
    {
     "name": "stdout",
     "output_type": "stream",
     "text": [
      "Loss:  2988058032.1601596\n",
      "Number of Coefs:  2\n",
      "Number of Intercepts:  2\n",
      "Number of Iterations for Which Estimator Ran:  200\n",
      "Number of Output Layer Activation Function:  identity\n"
     ]
    }
   ],
   "source": [
    "print('Loss: ', mlp_regressor.loss_)\n",
    "print('Number of Coefs: ', len(mlp_regressor.coefs_))\n",
    "print('Number of Intercepts: ', len(mlp_regressor.intercepts_))\n",
    "print('Number of Iterations for Which Estimator Ran: ', mlp_regressor.n_iter_)\n",
    "print('Number of Output Layer Activation Function: ', mlp_regressor.out_activation_)"
   ]
  },
  {
   "cell_type": "code",
   "execution_count": null,
   "id": "9ea8715e",
   "metadata": {},
   "outputs": [],
   "source": []
  },
  {
   "cell_type": "code",
   "execution_count": null,
   "id": "6cffc1a0",
   "metadata": {},
   "outputs": [],
   "source": []
  },
  {
   "cell_type": "code",
   "execution_count": null,
   "id": "8bd9304d",
   "metadata": {},
   "outputs": [],
   "source": []
  }
 ],
 "metadata": {
  "kernelspec": {
   "display_name": "Python 3 (ipykernel)",
   "language": "python",
   "name": "python3"
  },
  "language_info": {
   "codemirror_mode": {
    "name": "ipython",
    "version": 3
   },
   "file_extension": ".py",
   "mimetype": "text/x-python",
   "name": "python",
   "nbconvert_exporter": "python",
   "pygments_lexer": "ipython3",
   "version": "3.11.5"
  }
 },
 "nbformat": 4,
 "nbformat_minor": 5
}
